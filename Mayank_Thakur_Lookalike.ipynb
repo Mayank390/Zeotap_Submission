{
 "cells": [
  {
   "cell_type": "code",
   "execution_count": 22,
   "id": "c05a9208",
   "metadata": {},
   "outputs": [],
   "source": [
    "import pandas as pd\n",
    "from sklearn.metrics.pairwise import cosine_similarity\n",
    "from sklearn.preprocessing import StandardScaler\n",
    "from sklearn.metrics import accuracy_score, precision_score, recall_score\n",
    "import numpy as np"
   ]
  },
  {
   "cell_type": "code",
   "execution_count": 23,
   "id": "09a8c147",
   "metadata": {},
   "outputs": [],
   "source": [
    "# Loading the datasets:\n",
    "customers = pd.read_csv('Customers.csv')\n",
    "products = pd.read_csv('Products.csv')\n",
    "transactions = pd.read_csv('Transactions.csv')"
   ]
  },
  {
   "cell_type": "code",
   "execution_count": 24,
   "id": "ffdd6a1f",
   "metadata": {},
   "outputs": [],
   "source": [
    "# Creating customer profile based on transactions:\n",
    "customer_profiles = transactions.groupby('CustomerID').agg({\n",
    "    'Price': 'mean',         \n",
    "    'Quantity': 'sum',        \n",
    "    'TotalValue': 'sum'       \n",
    "}).reset_index()"
   ]
  },
  {
   "cell_type": "code",
   "execution_count": 25,
   "id": "9bd26b35",
   "metadata": {
    "scrolled": true
   },
   "outputs": [],
   "source": [
    "region_dummies = pd.get_dummies(customers[['CustomerID', 'Region']], columns=['Region'])\n",
    "customer_profiles = customer_profiles.merge(region_dummies, on='CustomerID', how='left')\n"
   ]
  },
  {
   "cell_type": "code",
   "execution_count": 26,
   "id": "2138c872",
   "metadata": {},
   "outputs": [],
   "source": [
    "# Standardizing the numerical features:\n",
    "scaler = StandardScaler()\n",
    "num_features = ['Price', 'Quantity', 'TotalValue']\n",
    "customer_profiles[num_features] = scaler.fit_transform(customer_profiles[num_features])"
   ]
  },
  {
   "cell_type": "code",
   "execution_count": 27,
   "id": "4e2198f3",
   "metadata": {},
   "outputs": [],
   "source": [
    "# Computing similarity matrix:\n",
    "similarity_matrix = cosine_similarity(customer_profiles.drop('CustomerID', axis=1))\n",
    "\n",
    "# Applying a threshold for similarity:\n",
    "SIMILARITY_THRESHOLD = 0.9"
   ]
  },
  {
   "cell_type": "code",
   "execution_count": 28,
   "id": "650481b7",
   "metadata": {},
   "outputs": [],
   "source": [
    "# Recommending top 3 similar customers for the first 20 customers\n",
    "lookalike_map = {}\n",
    "for idx in range(20):\n",
    "    customer_id = customer_profiles.iloc[idx]['CustomerID']\n",
    "    similarities = list(enumerate(similarity_matrix[idx]))\n",
    "    similarities = [(i, score) for i, score in similarities if score > SIMILARITY_THRESHOLD]\n",
    "    similarities = sorted(similarities, key=lambda x: x[1], reverse=True)\n",
    "    top_3 = [(customer_profiles.iloc[i]['CustomerID'], score) for i, score in similarities[1:4]]\n",
    "    lookalike_map[customer_id] = top_3"
   ]
  },
  {
   "cell_type": "code",
   "execution_count": 29,
   "id": "9ca3cd42",
   "metadata": {},
   "outputs": [],
   "source": [
    "# Saving Lookalike.csv:\n",
    "lookalike_data = {'CustomerID': [], 'Lookalikes': []}\n",
    "for cust_id, lookalikes in lookalike_map.items():\n",
    "    lookalike_data['CustomerID'].append(cust_id)\n",
    "    lookalike_data['Lookalikes'].append(str(lookalikes))\n",
    "\n",
    "lookalike_df = pd.DataFrame(lookalike_data)\n",
    "lookalike_df.to_csv('Lookalike.csv', index=False)"
   ]
  },
  {
   "cell_type": "code",
   "execution_count": null,
   "id": "0240f7f8",
   "metadata": {},
   "outputs": [],
   "source": []
  },
  {
   "cell_type": "code",
   "execution_count": null,
   "id": "a306b74e",
   "metadata": {},
   "outputs": [],
   "source": []
  },
  {
   "cell_type": "code",
   "execution_count": null,
   "id": "b7358c3d",
   "metadata": {},
   "outputs": [],
   "source": []
  },
  {
   "cell_type": "code",
   "execution_count": null,
   "id": "e5a1170b",
   "metadata": {},
   "outputs": [],
   "source": []
  },
  {
   "cell_type": "code",
   "execution_count": null,
   "id": "f7704538",
   "metadata": {},
   "outputs": [],
   "source": []
  },
  {
   "cell_type": "code",
   "execution_count": null,
   "id": "29c9399f",
   "metadata": {},
   "outputs": [],
   "source": []
  }
 ],
 "metadata": {
  "kernelspec": {
   "display_name": "Python 3 (ipykernel)",
   "language": "python",
   "name": "python3"
  },
  "language_info": {
   "codemirror_mode": {
    "name": "ipython",
    "version": 3
   },
   "file_extension": ".py",
   "mimetype": "text/x-python",
   "name": "python",
   "nbconvert_exporter": "python",
   "pygments_lexer": "ipython3",
   "version": "3.9.7"
  }
 },
 "nbformat": 4,
 "nbformat_minor": 5
}
